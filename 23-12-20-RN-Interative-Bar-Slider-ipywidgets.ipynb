{
 "cells": [
  {
   "cell_type": "markdown",
   "metadata": {},
   "source": [
    "# Interative Bar"
   ]
  },
  {
   "cell_type": "code",
   "execution_count": 1,
   "metadata": {},
   "outputs": [],
   "source": [
    "%matplotlib inline\n",
    "import matplotlib.pyplot as plt\n",
    "import numpy as np\n",
    "from numpy.random import rand\n",
    "from ipywidgets import FloatSlider, interactive, IntSlider, ToggleButton"
   ]
  },
  {
   "cell_type": "code",
   "execution_count": 2,
   "metadata": {},
   "outputs": [],
   "source": [
    "def polynomial(slope = 0.0, intercept = 0.0, show_points = True):\n",
    "    x = np.linspace(-90, 90, num=50)\n",
    "    y = x * slope + intercept\n",
    "    plt.rcParams['figure.figsize'] = 12,7\n",
    "    plt.figure()\n",
    "    if show_points:\n",
    "        plt.scatter(x, y)\n",
    "    plt.plot(x, y)\n",
    "    plt.xlim(-80, 100)\n",
    "    plt.ylim(-80, 100)\n",
    "    plt.vlines(0, -100, 100, color='black', alpha=0.2)\n",
    "    plt.hlines(0, -100, 100, color='black', alpha=0.2)\n",
    "    plt.tight_layout()"
   ]
  },
  {
   "cell_type": "code",
   "execution_count": 3,
   "metadata": {},
   "outputs": [
    {
     "data": {
      "application/vnd.jupyter.widget-view+json": {
       "model_id": "baf70e65205047628b6af75f2eaea58d",
       "version_major": 2,
       "version_minor": 0
      },
      "text/plain": [
       "interactive(children=(FloatSlider(value=1.0, description='slope', max=5.0, min=-5.0), FloatSlider(value=0.0, d…"
      ]
     },
     "metadata": {},
     "output_type": "display_data"
    }
   ],
   "source": [
    "slope_slider = FloatSlider(value=1.0, min=-5.0, max=5.0, step= 0.1)\n",
    "intercept_slider = FloatSlider(value=0.0, min=-50.0, max=50.0, step= 1.0)\n",
    "w = interactive(polynomial, slope=slope_slider, intercept=intercept_slider)\n",
    "w"
   ]
  },
  {
   "cell_type": "code",
   "execution_count": null,
   "metadata": {},
   "outputs": [],
   "source": []
  }
 ],
 "metadata": {
  "kernelspec": {
   "display_name": "Python 3",
   "language": "python",
   "name": "python3"
  },
  "language_info": {
   "codemirror_mode": {
    "name": "ipython",
    "version": 3
   },
   "file_extension": ".py",
   "mimetype": "text/x-python",
   "name": "python",
   "nbconvert_exporter": "python",
   "pygments_lexer": "ipython3",
   "version": "3.8.5"
  }
 },
 "nbformat": 4,
 "nbformat_minor": 4
}
