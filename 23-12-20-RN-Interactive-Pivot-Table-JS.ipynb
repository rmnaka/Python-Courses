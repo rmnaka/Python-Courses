{
 "cells": [
  {
   "cell_type": "markdown",
   "metadata": {},
   "source": [
    "# Notebook extensions - Pivot Table"
   ]
  },
  {
   "cell_type": "code",
   "execution_count": 1,
   "metadata": {},
   "outputs": [],
   "source": [
    "import pandas as pd"
   ]
  },
  {
   "cell_type": "code",
   "execution_count": 2,
   "metadata": {},
   "outputs": [],
   "source": [
    "import numpy as np"
   ]
  },
  {
   "cell_type": "markdown",
   "metadata": {},
   "source": [
    "## Pivot Table Extension"
   ]
  },
  {
   "cell_type": "code",
   "execution_count": 3,
   "metadata": {},
   "outputs": [],
   "source": [
    "from pivottablejs import pivot_ui"
   ]
  },
  {
   "cell_type": "markdown",
   "metadata": {},
   "source": [
    "### Read CSV"
   ]
  },
  {
   "cell_type": "code",
   "execution_count": 4,
   "metadata": {},
   "outputs": [],
   "source": [
    "df = pd.read_csv(\"Food_Establishment_Inspection_Scores.csv\")"
   ]
  },
  {
   "cell_type": "code",
   "execution_count": 5,
   "metadata": {},
   "outputs": [
    {
     "data": {
      "text/html": [
       "<div>\n",
       "<style scoped>\n",
       "    .dataframe tbody tr th:only-of-type {\n",
       "        vertical-align: middle;\n",
       "    }\n",
       "\n",
       "    .dataframe tbody tr th {\n",
       "        vertical-align: top;\n",
       "    }\n",
       "\n",
       "    .dataframe thead th {\n",
       "        text-align: right;\n",
       "    }\n",
       "</style>\n",
       "<table border=\"1\" class=\"dataframe\">\n",
       "  <thead>\n",
       "    <tr style=\"text-align: right;\">\n",
       "      <th></th>\n",
       "      <th>Restaurant Name</th>\n",
       "      <th>Zip Code</th>\n",
       "      <th>Inspection Date</th>\n",
       "      <th>Score</th>\n",
       "      <th>Address</th>\n",
       "      <th>Facility ID</th>\n",
       "      <th>Process Description</th>\n",
       "    </tr>\n",
       "  </thead>\n",
       "  <tbody>\n",
       "    <tr>\n",
       "      <th>0</th>\n",
       "      <td>Tinseltown USA Pflugerville</td>\n",
       "      <td>78660.0</td>\n",
       "      <td>02/20/2019</td>\n",
       "      <td>97</td>\n",
       "      <td>15436 FM\\nPFLUGERVILLE, TX 78660</td>\n",
       "      <td>2801050</td>\n",
       "      <td>Routine Inspection</td>\n",
       "    </tr>\n",
       "    <tr>\n",
       "      <th>1</th>\n",
       "      <td>Dollar Tree #4105</td>\n",
       "      <td>78753.0</td>\n",
       "      <td>07/02/2018</td>\n",
       "      <td>94</td>\n",
       "      <td>12901 N IH\\nAUSTIN, TX 78753</td>\n",
       "      <td>10885050</td>\n",
       "      <td>Routine Inspection</td>\n",
       "    </tr>\n",
       "    <tr>\n",
       "      <th>2</th>\n",
       "      <td>Juice House</td>\n",
       "      <td>78732.0</td>\n",
       "      <td>08/06/2019</td>\n",
       "      <td>99</td>\n",
       "      <td>6816 N FM 620 RD\\nAUSTIN, TX 78732</td>\n",
       "      <td>12070948</td>\n",
       "      <td>Routine Inspection</td>\n",
       "    </tr>\n",
       "    <tr>\n",
       "      <th>3</th>\n",
       "      <td>RW - The Finishline Carwash</td>\n",
       "      <td>NaN</td>\n",
       "      <td>04/05/2018</td>\n",
       "      <td>94</td>\n",
       "      <td>NaN</td>\n",
       "      <td>10555469</td>\n",
       "      <td>Routine Inspection</td>\n",
       "    </tr>\n",
       "    <tr>\n",
       "      <th>4</th>\n",
       "      <td>Austin White Lime</td>\n",
       "      <td>78728.0</td>\n",
       "      <td>08/24/2018</td>\n",
       "      <td>100</td>\n",
       "      <td>14001 MC NEIL RD\\nAUSTIN, TX 78728</td>\n",
       "      <td>2803732</td>\n",
       "      <td>Routine Inspection</td>\n",
       "    </tr>\n",
       "  </tbody>\n",
       "</table>\n",
       "</div>"
      ],
      "text/plain": [
       "               Restaurant Name  Zip Code Inspection Date  Score  \\\n",
       "0  Tinseltown USA Pflugerville   78660.0      02/20/2019     97   \n",
       "1            Dollar Tree #4105   78753.0      07/02/2018     94   \n",
       "2                  Juice House   78732.0      08/06/2019     99   \n",
       "3  RW - The Finishline Carwash       NaN      04/05/2018     94   \n",
       "4            Austin White Lime   78728.0      08/24/2018    100   \n",
       "\n",
       "                              Address  Facility ID Process Description  \n",
       "0    15436 FM\\nPFLUGERVILLE, TX 78660      2801050  Routine Inspection  \n",
       "1        12901 N IH\\nAUSTIN, TX 78753     10885050  Routine Inspection  \n",
       "2  6816 N FM 620 RD\\nAUSTIN, TX 78732     12070948  Routine Inspection  \n",
       "3                                 NaN     10555469  Routine Inspection  \n",
       "4  14001 MC NEIL RD\\nAUSTIN, TX 78728      2803732  Routine Inspection  "
      ]
     },
     "execution_count": 5,
     "metadata": {},
     "output_type": "execute_result"
    }
   ],
   "source": [
    "df.head()"
   ]
  },
  {
   "cell_type": "markdown",
   "metadata": {},
   "source": [
    "### NUMPY arange (min, max, cluster size)"
   ]
  },
  {
   "cell_type": "code",
   "execution_count": 6,
   "metadata": {},
   "outputs": [],
   "source": [
    "df['bin_score'] = pd.cut(df.Score, bins = np.arange(30,105,5))"
   ]
  },
  {
   "cell_type": "code",
   "execution_count": 7,
   "metadata": {},
   "outputs": [
    {
     "data": {
      "text/html": [
       "<div>\n",
       "<style scoped>\n",
       "    .dataframe tbody tr th:only-of-type {\n",
       "        vertical-align: middle;\n",
       "    }\n",
       "\n",
       "    .dataframe tbody tr th {\n",
       "        vertical-align: top;\n",
       "    }\n",
       "\n",
       "    .dataframe thead th {\n",
       "        text-align: right;\n",
       "    }\n",
       "</style>\n",
       "<table border=\"1\" class=\"dataframe\">\n",
       "  <thead>\n",
       "    <tr style=\"text-align: right;\">\n",
       "      <th></th>\n",
       "      <th>Restaurant Name</th>\n",
       "      <th>Zip Code</th>\n",
       "      <th>Inspection Date</th>\n",
       "      <th>Score</th>\n",
       "      <th>Address</th>\n",
       "      <th>Facility ID</th>\n",
       "      <th>Process Description</th>\n",
       "      <th>bin_score</th>\n",
       "    </tr>\n",
       "  </thead>\n",
       "  <tbody>\n",
       "    <tr>\n",
       "      <th>0</th>\n",
       "      <td>Tinseltown USA Pflugerville</td>\n",
       "      <td>78660.0</td>\n",
       "      <td>02/20/2019</td>\n",
       "      <td>97</td>\n",
       "      <td>15436 FM\\nPFLUGERVILLE, TX 78660</td>\n",
       "      <td>2801050</td>\n",
       "      <td>Routine Inspection</td>\n",
       "      <td>(95, 100]</td>\n",
       "    </tr>\n",
       "    <tr>\n",
       "      <th>1</th>\n",
       "      <td>Dollar Tree #4105</td>\n",
       "      <td>78753.0</td>\n",
       "      <td>07/02/2018</td>\n",
       "      <td>94</td>\n",
       "      <td>12901 N IH\\nAUSTIN, TX 78753</td>\n",
       "      <td>10885050</td>\n",
       "      <td>Routine Inspection</td>\n",
       "      <td>(90, 95]</td>\n",
       "    </tr>\n",
       "    <tr>\n",
       "      <th>2</th>\n",
       "      <td>Juice House</td>\n",
       "      <td>78732.0</td>\n",
       "      <td>08/06/2019</td>\n",
       "      <td>99</td>\n",
       "      <td>6816 N FM 620 RD\\nAUSTIN, TX 78732</td>\n",
       "      <td>12070948</td>\n",
       "      <td>Routine Inspection</td>\n",
       "      <td>(95, 100]</td>\n",
       "    </tr>\n",
       "    <tr>\n",
       "      <th>3</th>\n",
       "      <td>RW - The Finishline Carwash</td>\n",
       "      <td>NaN</td>\n",
       "      <td>04/05/2018</td>\n",
       "      <td>94</td>\n",
       "      <td>NaN</td>\n",
       "      <td>10555469</td>\n",
       "      <td>Routine Inspection</td>\n",
       "      <td>(90, 95]</td>\n",
       "    </tr>\n",
       "    <tr>\n",
       "      <th>4</th>\n",
       "      <td>Austin White Lime</td>\n",
       "      <td>78728.0</td>\n",
       "      <td>08/24/2018</td>\n",
       "      <td>100</td>\n",
       "      <td>14001 MC NEIL RD\\nAUSTIN, TX 78728</td>\n",
       "      <td>2803732</td>\n",
       "      <td>Routine Inspection</td>\n",
       "      <td>(95, 100]</td>\n",
       "    </tr>\n",
       "  </tbody>\n",
       "</table>\n",
       "</div>"
      ],
      "text/plain": [
       "               Restaurant Name  Zip Code Inspection Date  Score  \\\n",
       "0  Tinseltown USA Pflugerville   78660.0      02/20/2019     97   \n",
       "1            Dollar Tree #4105   78753.0      07/02/2018     94   \n",
       "2                  Juice House   78732.0      08/06/2019     99   \n",
       "3  RW - The Finishline Carwash       NaN      04/05/2018     94   \n",
       "4            Austin White Lime   78728.0      08/24/2018    100   \n",
       "\n",
       "                              Address  Facility ID Process Description  \\\n",
       "0    15436 FM\\nPFLUGERVILLE, TX 78660      2801050  Routine Inspection   \n",
       "1        12901 N IH\\nAUSTIN, TX 78753     10885050  Routine Inspection   \n",
       "2  6816 N FM 620 RD\\nAUSTIN, TX 78732     12070948  Routine Inspection   \n",
       "3                                 NaN     10555469  Routine Inspection   \n",
       "4  14001 MC NEIL RD\\nAUSTIN, TX 78728      2803732  Routine Inspection   \n",
       "\n",
       "   bin_score  \n",
       "0  (95, 100]  \n",
       "1   (90, 95]  \n",
       "2  (95, 100]  \n",
       "3   (90, 95]  \n",
       "4  (95, 100]  "
      ]
     },
     "execution_count": 7,
     "metadata": {},
     "output_type": "execute_result"
    }
   ],
   "source": [
    "df.head()"
   ]
  },
  {
   "cell_type": "code",
   "execution_count": 10,
   "metadata": {},
   "outputs": [
    {
     "data": {
      "text/html": [
       "\n",
       "        <iframe\n",
       "            width=\"100%\"\n",
       "            height=\"500\"\n",
       "            src=\"pivottablejs.html\"\n",
       "            frameborder=\"0\"\n",
       "            allowfullscreen\n",
       "        ></iframe>\n",
       "        "
      ],
      "text/plain": [
       "<IPython.lib.display.IFrame at 0x246e93325e0>"
      ]
     },
     "execution_count": 10,
     "metadata": {},
     "output_type": "execute_result"
    }
   ],
   "source": [
    "pivot_ui(df[['bin_score','Zip Code' ]])"
   ]
  },
  {
   "cell_type": "code",
   "execution_count": 11,
   "metadata": {
    "scrolled": false
   },
   "outputs": [
    {
     "data": {
      "text/html": [
       "\n",
       "        <iframe\n",
       "            width=\"100%\"\n",
       "            height=\"500\"\n",
       "            src=\"pivottablejs.html\"\n",
       "            frameborder=\"0\"\n",
       "            allowfullscreen\n",
       "        ></iframe>\n",
       "        "
      ],
      "text/plain": [
       "<IPython.lib.display.IFrame at 0x246e9332760>"
      ]
     },
     "execution_count": 11,
     "metadata": {},
     "output_type": "execute_result"
    }
   ],
   "source": [
    "pivot_ui(df)"
   ]
  },
  {
   "cell_type": "code",
   "execution_count": null,
   "metadata": {},
   "outputs": [],
   "source": []
  }
 ],
 "metadata": {
  "kernelspec": {
   "display_name": "Python 3",
   "language": "python",
   "name": "python3"
  },
  "language_info": {
   "codemirror_mode": {
    "name": "ipython",
    "version": 3
   },
   "file_extension": ".py",
   "mimetype": "text/x-python",
   "name": "python",
   "nbconvert_exporter": "python",
   "pygments_lexer": "ipython3",
   "version": "3.8.5"
  }
 },
 "nbformat": 4,
 "nbformat_minor": 4
}
